{
 "cells": [
  {
   "cell_type": "code",
   "execution_count": 1,
   "id": "0e7e9443-ff3d-44cd-ba57-dbce8f237bcd",
   "metadata": {},
   "outputs": [
    {
     "name": "stdout",
     "output_type": "stream",
     "text": [
      "ABIT\n"
     ]
    }
   ],
   "source": [
    "clg = \"ABIT\"\n",
    "print(clg)\n",
    "# it is the example of valid variable declaration"
   ]
  },
  {
   "cell_type": "code",
   "execution_count": 8,
   "id": "598dc524-388a-4c7b-8472-35bd466b8718",
   "metadata": {},
   "outputs": [
    {
     "name": "stdout",
     "output_type": "stream",
     "text": [
      "20\n"
     ]
    }
   ],
   "source": [
    "wd = 20\n",
    "print(wd)\n",
    "# it is the example of valid variable declaration"
   ]
  },
  {
   "cell_type": "code",
   "execution_count": 3,
   "id": "f3adf746-1ec4-46de-b371-aa60ea6995ea",
   "metadata": {},
   "outputs": [
    {
     "data": {
      "text/plain": [
       "int"
      ]
     },
     "execution_count": 3,
     "metadata": {},
     "output_type": "execute_result"
    }
   ],
   "source": [
    "type(wd)"
   ]
  },
  {
   "cell_type": "code",
   "execution_count": 4,
   "id": "24a495c3-2022-4f78-b2d2-8ff45b7fee50",
   "metadata": {},
   "outputs": [
    {
     "name": "stdout",
     "output_type": "stream",
     "text": [
      "['False', 'None', 'True', 'and', 'as', 'assert', 'async', 'await', 'break', 'class', 'continue', 'def', 'del', 'elif', 'else', 'except', 'finally', 'for', 'from', 'global', 'if', 'import', 'in', 'is', 'lambda', 'nonlocal', 'not', 'or', 'pass', 'raise', 'return', 'try', 'while', 'with', 'yield']\n"
     ]
    }
   ],
   "source": [
    "import keyword\n",
    "print(keyword.kwlist)"
   ]
  },
  {
   "cell_type": "code",
   "execution_count": 5,
   "id": "227549fe-d667-474b-95b7-6876880b6685",
   "metadata": {},
   "outputs": [
    {
     "data": {
      "text/plain": [
       "35"
      ]
     },
     "execution_count": 5,
     "metadata": {},
     "output_type": "execute_result"
    }
   ],
   "source": [
    "len(keyword.kwlist)"
   ]
  },
  {
   "cell_type": "code",
   "execution_count": 6,
   "id": "0ac9d900-94e1-4006-a11f-45dabee07e66",
   "metadata": {},
   "outputs": [
    {
     "data": {
      "text/plain": [
       "37"
      ]
     },
     "execution_count": 6,
     "metadata": {},
     "output_type": "execute_result"
    }
   ],
   "source": [
    "a1 = 37\n",
    "a1\n",
    "# it is the example of valid variable declaration"
   ]
  },
  {
   "cell_type": "code",
   "execution_count": 7,
   "id": "cb364dc7-bfe3-4ee6-863a-b1a2639d22ff",
   "metadata": {},
   "outputs": [
    {
     "ename": "SyntaxError",
     "evalue": "invalid decimal literal (905623807.py, line 1)",
     "output_type": "error",
     "traceback": [
      "\u001b[1;36m  Cell \u001b[1;32mIn[7], line 1\u001b[1;36m\u001b[0m\n\u001b[1;33m    1b = 20\u001b[0m\n\u001b[1;37m    ^\u001b[0m\n\u001b[1;31mSyntaxError\u001b[0m\u001b[1;31m:\u001b[0m invalid decimal literal\n"
     ]
    }
   ],
   "source": [
    "1b = 20\n",
    "1b\n",
    "# variable names cannot start with a digit"
   ]
  },
  {
   "cell_type": "code",
   "execution_count": 9,
   "id": "7a8114de-4dda-44ef-9c17-c673e22ac31c",
   "metadata": {},
   "outputs": [
    {
     "ename": "SyntaxError",
     "evalue": "invalid syntax (4215880195.py, line 1)",
     "output_type": "error",
     "traceback": [
      "\u001b[1;36m  Cell \u001b[1;32mIn[9], line 1\u001b[1;36m\u001b[0m\n\u001b[1;33m    b$7 = 90\u001b[0m\n\u001b[1;37m     ^\u001b[0m\n\u001b[1;31mSyntaxError\u001b[0m\u001b[1;31m:\u001b[0m invalid syntax\n"
     ]
    }
   ],
   "source": [
    "b$7 = 90\n",
    "b$7\n",
    "# variable names cannot contain special characters"
   ]
  },
  {
   "cell_type": "code",
   "execution_count": 10,
   "id": "9972ba99-8987-4797-b416-a9761d8aae15",
   "metadata": {},
   "outputs": [
    {
     "name": "stdout",
     "output_type": "stream",
     "text": [
      "120\n"
     ]
    }
   ],
   "source": [
    "n_m = \"120\"\n",
    "print(n_m)\n",
    "# we can use _ between the variable names "
   ]
  },
  {
   "cell_type": "code",
   "execution_count": 11,
   "id": "f338434a-df16-4f10-9b6e-d9da2ac044fe",
   "metadata": {},
   "outputs": [
    {
     "data": {
      "text/plain": [
       "20"
      ]
     },
     "execution_count": 11,
     "metadata": {},
     "output_type": "execute_result"
    }
   ],
   "source": [
    "_ = 20\n",
    "_\n",
    "# we can only use _ while assigning variable"
   ]
  },
  {
   "cell_type": "code",
   "execution_count": 13,
   "id": "368ac329-cec9-41ca-b95a-8af397284467",
   "metadata": {},
   "outputs": [
    {
     "data": {
      "text/plain": [
       "140732850097176"
      ]
     },
     "execution_count": 13,
     "metadata": {},
     "output_type": "execute_result"
    }
   ],
   "source": [
    "id(_)"
   ]
  },
  {
   "cell_type": "code",
   "execution_count": 14,
   "id": "e4ea9a6a-7151-497d-9769-21a0a59592cf",
   "metadata": {},
   "outputs": [
    {
     "data": {
      "text/plain": [
       "2405445992832"
      ]
     },
     "execution_count": 14,
     "metadata": {},
     "output_type": "execute_result"
    }
   ],
   "source": [
    "id(n_m)"
   ]
  },
  {
   "cell_type": "code",
   "execution_count": 20,
   "id": "86197d5b-b5f9-4191-9494-a5cb8b2e3d57",
   "metadata": {},
   "outputs": [
    {
     "data": {
      "text/plain": [
       "140732850097176"
      ]
     },
     "execution_count": 20,
     "metadata": {},
     "output_type": "execute_result"
    }
   ],
   "source": [
    "z = 20\n",
    "id(z)"
   ]
  },
  {
   "cell_type": "code",
   "execution_count": 21,
   "id": "3b07b548-6b1c-4daf-a864-4a382a0fadbe",
   "metadata": {},
   "outputs": [
    {
     "data": {
      "text/plain": [
       "140732850097176"
      ]
     },
     "execution_count": 21,
     "metadata": {},
     "output_type": "execute_result"
    }
   ],
   "source": [
    "q = 20\n",
    "id( q)"
   ]
  },
  {
   "cell_type": "code",
   "execution_count": 23,
   "id": "84d5e2e5-8f75-4b19-95dc-6a59f12f6381",
   "metadata": {},
   "outputs": [
    {
     "data": {
      "text/plain": [
       "140732850097496"
      ]
     },
     "execution_count": 23,
     "metadata": {},
     "output_type": "execute_result"
    }
   ],
   "source": [
    "q = 30\n",
    "id(q)"
   ]
  },
  {
   "cell_type": "code",
   "execution_count": 24,
   "id": "b117716a-7dec-47cd-94f5-60657ae5cc67",
   "metadata": {},
   "outputs": [
    {
     "name": "stdout",
     "output_type": "stream",
     "text": [
      "The summation of two numbers are  40\n"
     ]
    }
   ],
   "source": [
    "a = 10\n",
    "b = 30\n",
    "sum = a+b\n",
    "print(\"The summation of two numbers are \",sum)"
   ]
  },
  {
   "cell_type": "code",
   "execution_count": 26,
   "id": "07f7987c-e0e6-4f16-b24a-7651052471f2",
   "metadata": {},
   "outputs": [
    {
     "data": {
      "text/plain": [
       "9"
      ]
     },
     "execution_count": 26,
     "metadata": {},
     "output_type": "execute_result"
    }
   ],
   "source": [
    "a = b =c = 9\n",
    "a\n",
    "b\n",
    "c"
   ]
  },
  {
   "cell_type": "code",
   "execution_count": 28,
   "id": "08028a9a-2073-4715-910a-0b04cc2d4bbd",
   "metadata": {},
   "outputs": [
    {
     "name": "stdout",
     "output_type": "stream",
     "text": [
      "87 65 43\n"
     ]
    }
   ],
   "source": [
    "a= 87\n",
    "b = 65\n",
    "c = 43\n",
    "abc = 875\n",
    "print(a,b,c)"
   ]
  },
  {
   "cell_type": "code",
   "execution_count": 29,
   "id": "8c492d99-6daf-47bc-be70-62e64dde9a1c",
   "metadata": {},
   "outputs": [
    {
     "name": "stdout",
     "output_type": "stream",
     "text": [
      "875\n"
     ]
    }
   ],
   "source": [
    "print(abc)"
   ]
  },
  {
   "cell_type": "code",
   "execution_count": 30,
   "id": "c8f72549-d275-4a4e-99d2-1cf78a1170ac",
   "metadata": {},
   "outputs": [
    {
     "name": "stdout",
     "output_type": "stream",
     "text": [
      "10\n"
     ]
    }
   ],
   "source": [
    "a = 10\n",
    "print(a)"
   ]
  },
  {
   "cell_type": "code",
   "execution_count": 35,
   "id": "573bd9a1-a110-4f93-9cff-541670c44f56",
   "metadata": {},
   "outputs": [
    {
     "name": "stdout",
     "output_type": "stream",
     "text": [
      "after deleting a:\n"
     ]
    },
    {
     "ename": "NameError",
     "evalue": "name 'a' is not defined",
     "output_type": "error",
     "traceback": [
      "\u001b[1;31m---------------------------------------------------------------------------\u001b[0m",
      "\u001b[1;31mNameError\u001b[0m                                 Traceback (most recent call last)",
      "Cell \u001b[1;32mIn[35], line 2\u001b[0m\n\u001b[0;32m      1\u001b[0m \u001b[38;5;28mprint\u001b[39m(\u001b[38;5;124m\"\u001b[39m\u001b[38;5;124mafter deleting a:\u001b[39m\u001b[38;5;124m\"\u001b[39m) \n\u001b[1;32m----> 2\u001b[0m \u001b[38;5;28;01mdel\u001b[39;00m(\u001b[43ma\u001b[49m)\n\u001b[0;32m      3\u001b[0m \u001b[38;5;28mprint\u001b[39m(a)\n",
      "\u001b[1;31mNameError\u001b[0m: name 'a' is not defined"
     ]
    }
   ],
   "source": [
    "print(\"after deleting a:\") \n",
    "del(a)\n",
    "print(a)\n",
    "# after deleting 'a' if  we print 'a' it shows : name 'a' is not defined"
   ]
  },
  {
   "cell_type": "code",
   "execution_count": 37,
   "id": "65ae9522-94b4-469c-8c57-688a5daf2b6e",
   "metadata": {},
   "outputs": [
    {
     "name": "stdout",
     "output_type": "stream",
     "text": [
      "30\n"
     ]
    }
   ],
   "source": [
    "a=10\n",
    "b=20\n",
    "c=30\n",
    "del a,b\n",
    "print(c)"
   ]
  },
  {
   "cell_type": "code",
   "execution_count": 38,
   "id": "a0918934-5e50-40b3-b378-153476f41be5",
   "metadata": {},
   "outputs": [
    {
     "name": "stdout",
     "output_type": "stream",
     "text": [
      "10 20 30\n"
     ]
    }
   ],
   "source": [
    "a,b,c = 10,20,30\n",
    "print(a,b,c)"
   ]
  },
  {
   "cell_type": "code",
   "execution_count": 40,
   "id": "76842043-0872-4a7f-afc1-a5669865471e",
   "metadata": {},
   "outputs": [
    {
     "name": "stdout",
     "output_type": "stream",
     "text": [
      "ML\n"
     ]
    }
   ],
   "source": [
    "a = b = c = \"ML\"\n",
    "print(c)\n"
   ]
  },
  {
   "cell_type": "code",
   "execution_count": null,
   "id": "9df98e5b-db2b-4c5f-87cf-67f25ca09538",
   "metadata": {},
   "outputs": [],
   "source": []
  }
 ],
 "metadata": {
  "kernelspec": {
   "display_name": "Python 3 (ipykernel)",
   "language": "python",
   "name": "python3"
  },
  "language_info": {
   "codemirror_mode": {
    "name": "ipython",
    "version": 3
   },
   "file_extension": ".py",
   "mimetype": "text/x-python",
   "name": "python",
   "nbconvert_exporter": "python",
   "pygments_lexer": "ipython3",
   "version": "3.12.0"
  }
 },
 "nbformat": 4,
 "nbformat_minor": 5
}
