{
 "cells": [
  {
   "cell_type": "code",
   "execution_count": 1,
   "id": "3e22c62d-4b57-4aa6-bfa8-d788d9355b88",
   "metadata": {},
   "outputs": [
    {
     "name": "stdout",
     "output_type": "stream",
     "text": [
      "2\n"
     ]
    }
   ],
   "source": [
    "# various ways to print in python\n",
    "print(2)"
   ]
  },
  {
   "cell_type": "code",
   "execution_count": 3,
   "id": "83dddaf1-09cb-4f69-891a-44c0a0824935",
   "metadata": {},
   "outputs": [
    {
     "name": "stdout",
     "output_type": "stream",
     "text": [
      "Mihir\n"
     ]
    }
   ],
   "source": [
    "print(\"Mihir\")"
   ]
  },
  {
   "cell_type": "code",
   "execution_count": 4,
   "id": "c584d934-90e1-49a4-b7a2-b2ddcd503b8c",
   "metadata": {},
   "outputs": [
    {
     "name": "stdout",
     "output_type": "stream",
     "text": [
      "jdjswn   12@#*\n"
     ]
    }
   ],
   "source": [
    "print(\"jdjswn   12@#*\")"
   ]
  },
  {
   "cell_type": "code",
   "execution_count": 5,
   "id": "b678c1be-90b2-4b2f-a2f6-78f545d76480",
   "metadata": {},
   "outputs": [
    {
     "name": "stdout",
     "output_type": "stream",
     "text": [
      "10\n"
     ]
    }
   ],
   "source": [
    "num = 10\n",
    "print(num)"
   ]
  },
  {
   "cell_type": "code",
   "execution_count": 13,
   "id": "a891951b-2482-4718-ae2b-d00fd5eae097",
   "metadata": {},
   "outputs": [
    {
     "name": "stdout",
     "output_type": "stream",
     "text": [
      "100 is\n"
     ]
    },
    {
     "data": {
      "text/plain": [
       "int"
      ]
     },
     "execution_count": 13,
     "metadata": {},
     "output_type": "execute_result"
    }
   ],
   "source": [
    "mihir = 100\n",
    "print(mihir, \"is\")\n",
    "type(mihir)"
   ]
  },
  {
   "cell_type": "code",
   "execution_count": 10,
   "id": "ca2f5059-fb55-4b0c-9e54-9cb13f7525f0",
   "metadata": {},
   "outputs": [
    {
     "name": "stdout",
     "output_type": "stream",
     "text": [
      "10 20 30 40\n"
     ]
    }
   ],
   "source": [
    "a = 10\n",
    "b = 20\n",
    "c = 30\n",
    "d = 40\n",
    "print(a, b, c, d)"
   ]
  },
  {
   "cell_type": "code",
   "execution_count": 12,
   "id": "11c7a677-1dbe-4287-bf27-f6f118840fb3",
   "metadata": {},
   "outputs": [
    {
     "name": "stdout",
     "output_type": "stream",
     "text": [
      "10 is\n"
     ]
    },
    {
     "data": {
      "text/plain": [
       "str"
      ]
     },
     "execution_count": 12,
     "metadata": {},
     "output_type": "execute_result"
    }
   ],
   "source": [
    "num1 = '10'\n",
    "print(num1, \"is\")\n",
    "type(num1)"
   ]
  },
  {
   "cell_type": "code",
   "execution_count": 14,
   "id": "eb1038be-f3cb-4749-98db-1c909282dcdb",
   "metadata": {},
   "outputs": [
    {
     "name": "stdout",
     "output_type": "stream",
     "text": [
      "40\n"
     ]
    }
   ],
   "source": [
    "# print function in python\n",
    "a = 20\n",
    "b = 20\n",
    "c = a+b\n",
    "print(c)"
   ]
  },
  {
   "cell_type": "code",
   "execution_count": 15,
   "id": "b07a93bc-12c1-46d9-9b68-0d4a976f875b",
   "metadata": {},
   "outputs": [
    {
     "name": "stdout",
     "output_type": "stream",
     "text": [
      "50\n"
     ]
    }
   ],
   "source": [
    "print(20+30)"
   ]
  },
  {
   "cell_type": "code",
   "execution_count": 19,
   "id": "188a6a1a-21bc-4a0e-b34e-fe8ea8396a9d",
   "metadata": {},
   "outputs": [
    {
     "name": "stdout",
     "output_type": "stream",
     "text": [
      "10,20,30,40\n"
     ]
    }
   ],
   "source": [
    "a = 10\n",
    "b = 20\n",
    "c = 30\n",
    "d = 40\n",
    "print(a, b, c, d, sep= \",\")"
   ]
  },
  {
   "cell_type": "code",
   "execution_count": 18,
   "id": "cc5b2e42-2030-4220-bb41-e4a05be6954d",
   "metadata": {},
   "outputs": [
    {
     "name": "stdout",
     "output_type": "stream",
     "text": [
      "10:20:30:40\n"
     ]
    }
   ],
   "source": [
    "# a = 10\n",
    "# b = 20\n",
    "# c = 30\n",
    "# d = 40\n",
    "print(a, b, c, d, sep= \":\")"
   ]
  },
  {
   "cell_type": "code",
   "execution_count": 20,
   "id": "38dfe009-34c0-47a0-a399-7e6399621e5c",
   "metadata": {},
   "outputs": [
    {
     "name": "stdout",
     "output_type": "stream",
     "text": [
      "10#20#30#40\n"
     ]
    }
   ],
   "source": [
    "print(a, b, c, d, sep= \"#\")"
   ]
  },
  {
   "cell_type": "code",
   "execution_count": 21,
   "id": "febcdce1-4146-42c1-be81-5e1b4b3e8442",
   "metadata": {},
   "outputs": [
    {
     "name": "stdout",
     "output_type": "stream",
     "text": [
      "The value of a : 10\n"
     ]
    }
   ],
   "source": [
    "print(\"The value of a :\", a)"
   ]
  },
  {
   "cell_type": "code",
   "execution_count": 22,
   "id": "ab74218e-3c94-426c-abf6-f221b6a10406",
   "metadata": {},
   "outputs": [
    {
     "name": "stdout",
     "output_type": "stream",
     "text": [
      "My name is : Pradosh Mihir Dash\n"
     ]
    }
   ],
   "source": [
    "f_name = \"Pradosh\"\n",
    "m_name = \"Mihir\"\n",
    "l_name = \"Dash\"\n",
    "print(\"My name is :\", f_name, m_name, l_name )"
   ]
  },
  {
   "cell_type": "code",
   "execution_count": 25,
   "id": "e1ff9cbc-9f0c-46c6-b50f-de45f07f861c",
   "metadata": {},
   "outputs": [
    {
     "name": "stdout",
     "output_type": "stream",
     "text": [
      "My name is Pradosh Mihir Dash\n"
     ]
    }
   ],
   "source": [
    "print(\"My name is {} {} {}\".format(f_name, m_name, l_name) )"
   ]
  },
  {
   "cell_type": "code",
   "execution_count": 27,
   "id": "6e603169-460b-42b6-a60d-dd0ebc774cc5",
   "metadata": {},
   "outputs": [
    {
     "name": "stdout",
     "output_type": "stream",
     "text": [
      "my firstname is Pradosh & lastname is Dash\n"
     ]
    }
   ],
   "source": [
    "# This is the example of keyword argument in python\n",
    "print(\"my firstname is {first} & lastname is {last}\".format(first = f_name, last= l_name))"
   ]
  },
  {
   "cell_type": "code",
   "execution_count": 29,
   "id": "65493e32-9264-4a93-b8f1-70cb98f42969",
   "metadata": {},
   "outputs": [
    {
     "name": "stdout",
     "output_type": "stream",
     "text": [
      "my firstname is Pradosh & i wish u  good morning\n"
     ]
    }
   ],
   "source": [
    "print(\"my firstname is {first} & i wish u  {greet}\".format(first = f_name, greet= \"good morning\"))"
   ]
  },
  {
   "cell_type": "code",
   "execution_count": 31,
   "id": "6819d5a9-da53-48cb-ab4d-f1556369df3a",
   "metadata": {},
   "outputs": [
    {
     "name": "stdout",
     "output_type": "stream",
     "text": [
      "My friends are bill jorge harry\n"
     ]
    }
   ],
   "source": [
    "print(\"My friends are {} {} {}\".format(\"bill\", \"jorge\", \"harry\"))"
   ]
  },
  {
   "cell_type": "code",
   "execution_count": 38,
   "id": "e46f68aa-8914-40fe-8ce3-083ae38ca3c0",
   "metadata": {},
   "outputs": [
    {
     "name": "stdout",
     "output_type": "stream",
     "text": [
      "My number is:10 and my name is:Mihir\n",
      "My number is:10 and my name is:Mihir\n",
      "My number is: 10 and my name is: Mihir\n"
     ]
    }
   ],
   "source": [
    "num = 10\n",
    "name = \"Mihir\"\n",
    "print (\"My number is:{one} and my name is:{two}\".format(one = num, two=name))\n",
    "print(\"My number is:{} and my name is:{}\".format(num, name))\n",
    "print(\"My number is:\",num,\"and\", \"my name is:\", name)"
   ]
  },
  {
   "cell_type": "code",
   "execution_count": 40,
   "id": "f43b90e8-b740-4eed-8f5e-a7d79017bdaf",
   "metadata": {},
   "outputs": [
    {
     "name": "stdin",
     "output_type": "stream",
     "text": [
      "Enter the value of a:  2\n",
      "Enter the value of b:  2\n"
     ]
    },
    {
     "name": "stdout",
     "output_type": "stream",
     "text": [
      "ADD: 4\n",
      "Sum 4, Diff0, Mul4, Div1.0, Mod0\n"
     ]
    }
   ],
   "source": [
    "a = int(input(\"Enter the value of a: \"))\n",
    "b=int(input(\"Enter the value of b: \"))\n",
    "add=a+b\n",
    "sub=a-b\n",
    "mult=a*b\n",
    "div=a/b\n",
    "mod=a%b\n",
    "print(\"ADD:\", add)\n",
    "print(\"Sum {0}, Diff{1}, Mul{2}, Div{3}, Mod{4}\".format(add, sub, mult, div, mod))"
   ]
  },
  {
   "cell_type": "code",
   "execution_count": 41,
   "id": "495be748-06ea-4ff4-a4b5-511eaa73e317",
   "metadata": {},
   "outputs": [
    {
     "name": "stdout",
     "output_type": "stream",
     "text": [
      "Sum 4, Diff0, Mul4, Div1.0, Mod0\n"
     ]
    }
   ],
   "source": [
    "print(\"Sum {}, Diff{}, Mul{}, Div{}, Mod{}\".format(add, sub, mult, div, mod))"
   ]
  },
  {
   "cell_type": "code",
   "execution_count": 47,
   "id": "2c32c5f1-6fd4-4bca-bc4a-7d6d5dea6a74",
   "metadata": {},
   "outputs": [
    {
     "name": "stdout",
     "output_type": "stream",
     "text": [
      "welcome to python Master class\n"
     ]
    }
   ],
   "source": [
    " #Formatting string Literals\n",
    "a = \"Master class\"\n",
    "print(f\"welcome to python {a}\")"
   ]
  },
  {
   "cell_type": "code",
   "execution_count": null,
   "id": "fc3c096e-5fe7-4f49-8efa-424812261a15",
   "metadata": {},
   "outputs": [],
   "source": [
    "nm = input(\"Enter a company name - \")\n",
    "nm1 = input(\"Enter the number of emplyees - \")\n",
    "print(\"The name of the company is and the number of emplyees are \",nm,nm1)"
   ]
  },
  {
   "cell_type": "code",
   "execution_count": null,
   "id": "78a59241-fd01-488e-a459-58590d26c43f",
   "metadata": {},
   "outputs": [],
   "source": []
  }
 ],
 "metadata": {
  "kernelspec": {
   "display_name": "Python 3 (ipykernel)",
   "language": "python",
   "name": "python3"
  },
  "language_info": {
   "codemirror_mode": {
    "name": "ipython",
    "version": 3
   },
   "file_extension": ".py",
   "mimetype": "text/x-python",
   "name": "python",
   "nbconvert_exporter": "python",
   "pygments_lexer": "ipython3",
   "version": "3.12.0"
  }
 },
 "nbformat": 4,
 "nbformat_minor": 5
}
