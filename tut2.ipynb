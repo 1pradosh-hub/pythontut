{
 "cells": [
  {
   "cell_type": "code",
   "execution_count": 2,
   "id": "fddc6ee5-1409-4dcd-bdb7-1743d1ca78b0",
   "metadata": {},
   "outputs": [
    {
     "name": "stdin",
     "output_type": "stream",
     "text": [
      " Mihir\n"
     ]
    }
   ],
   "source": [
    "n = input()"
   ]
  },
  {
   "cell_type": "code",
   "execution_count": 3,
   "id": "a92292e2-a659-4977-9505-75e59cb7806a",
   "metadata": {},
   "outputs": [
    {
     "data": {
      "text/plain": [
       "str"
      ]
     },
     "execution_count": 3,
     "metadata": {},
     "output_type": "execute_result"
    }
   ],
   "source": [
    "type(n)"
   ]
  },
  {
   "cell_type": "code",
   "execution_count": 5,
   "id": "21ce91a6-3c70-4add-b1f9-a8a680614318",
   "metadata": {},
   "outputs": [
    {
     "name": "stdin",
     "output_type": "stream",
     "text": [
      " mihir\n"
     ]
    },
    {
     "name": "stdout",
     "output_type": "stream",
     "text": [
      "mihir\n"
     ]
    }
   ],
   "source": [
    "n = input()\n",
    "print(n)\n"
   ]
  },
  {
   "cell_type": "code",
   "execution_count": 8,
   "id": "95f56b39-57eb-4333-84aa-e14aa55fc664",
   "metadata": {},
   "outputs": [
    {
     "name": "stdin",
     "output_type": "stream",
     "text": [
      "Enter your age 20\n"
     ]
    },
    {
     "name": "stdout",
     "output_type": "stream",
     "text": [
      "Your age is:  20 Years old\n"
     ]
    }
   ],
   "source": [
    "ag = input(\"Enter your age\")\n",
    "print(\"Your age is: \", ag, \"Years old\")"
   ]
  },
  {
   "cell_type": "code",
   "execution_count": 12,
   "id": "021011c6-bccd-4c24-9b8e-24dce4469ed2",
   "metadata": {},
   "outputs": [
    {
     "name": "stdin",
     "output_type": "stream",
     "text": [
      "Enter your names harry ron\n"
     ]
    },
    {
     "name": "stdout",
     "output_type": "stream",
     "text": [
      "My name is : harry\n",
      "My friend's name is : ron\n"
     ]
    }
   ],
   "source": [
    "var_1, var_2 = input(\"Enter your names\").split(\" \")\n",
    "print(\"My name is :\", var_1)\n",
    "print(\"My friend's name is :\", var_2)"
   ]
  },
  {
   "cell_type": "code",
   "execution_count": null,
   "id": "8decba0e-3aac-4f6a-a7b4-bf7f6338ba17",
   "metadata": {},
   "outputs": [],
   "source": []
  }
 ],
 "metadata": {
  "kernelspec": {
   "display_name": "Python 3 (ipykernel)",
   "language": "python",
   "name": "python3"
  },
  "language_info": {
   "codemirror_mode": {
    "name": "ipython",
    "version": 3
   },
   "file_extension": ".py",
   "mimetype": "text/x-python",
   "name": "python",
   "nbconvert_exporter": "python",
   "pygments_lexer": "ipython3",
   "version": "3.12.0"
  }
 },
 "nbformat": 4,
 "nbformat_minor": 5
}
