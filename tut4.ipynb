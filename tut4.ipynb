{
 "cells": [
  {
   "cell_type": "code",
   "execution_count": 1,
   "id": "7c0b50fe-0134-4214-b82f-2b4c54ae4060",
   "metadata": {},
   "outputs": [
    {
     "data": {
      "text/plain": [
       "int"
      ]
     },
     "execution_count": 1,
     "metadata": {},
     "output_type": "execute_result"
    }
   ],
   "source": [
    "a =10\n",
    "type(a)"
   ]
  },
  {
   "cell_type": "code",
   "execution_count": 2,
   "id": "8746df11-b39b-415d-962d-366ebc459ae6",
   "metadata": {},
   "outputs": [
    {
     "data": {
      "text/plain": [
       "float"
      ]
     },
     "execution_count": 2,
     "metadata": {},
     "output_type": "execute_result"
    }
   ],
   "source": [
    "b = 10.0\n",
    "type(b)"
   ]
  },
  {
   "cell_type": "code",
   "execution_count": 3,
   "id": "ef34d979-f26c-45c4-82cf-c581fdb9993c",
   "metadata": {},
   "outputs": [
    {
     "name": "stdout",
     "output_type": "stream",
     "text": [
      "<class 'int'>\n",
      "<class 'float'>\n"
     ]
    }
   ],
   "source": [
    "print(type(a))\n",
    "print(type(b))"
   ]
  },
  {
   "cell_type": "code",
   "execution_count": 4,
   "id": "e4cd7349-6417-4214-822a-bf335d1145cc",
   "metadata": {},
   "outputs": [
    {
     "name": "stdout",
     "output_type": "stream",
     "text": [
      "20.0\n"
     ]
    }
   ],
   "source": [
    "print(a + b)"
   ]
  },
  {
   "cell_type": "code",
   "execution_count": 5,
   "id": "47996661-b152-4d70-8ed1-2712697b0f71",
   "metadata": {},
   "outputs": [
    {
     "data": {
      "text/plain": [
       "4"
      ]
     },
     "execution_count": 5,
     "metadata": {},
     "output_type": "execute_result"
    }
   ],
   "source": [
    "# Example of typecasting\n",
    "a = 4.5\n",
    "int(a)"
   ]
  },
  {
   "cell_type": "code",
   "execution_count": 6,
   "id": "eb8e40b3-c796-448a-a92c-e1afd16ee9bb",
   "metadata": {},
   "outputs": [
    {
     "data": {
      "text/plain": [
       "3"
      ]
     },
     "execution_count": 6,
     "metadata": {},
     "output_type": "execute_result"
    }
   ],
   "source": [
    "int(3.4)"
   ]
  },
  {
   "cell_type": "markdown",
   "id": "3eefaaca-2f4c-430b-8d8b-ebe00ce4b8ed",
   "metadata": {},
   "source": [
    "Boolean Datatype"
   ]
  },
  {
   "cell_type": "code",
   "execution_count": 7,
   "id": "99b8d47b-3dda-4585-bd17-f411e83e068c",
   "metadata": {},
   "outputs": [
    {
     "data": {
      "text/plain": [
       "bool"
      ]
     },
     "execution_count": 7,
     "metadata": {},
     "output_type": "execute_result"
    }
   ],
   "source": [
    "# This is boolean datatype\n",
    "a = True\n",
    "type(a)"
   ]
  },
  {
   "cell_type": "code",
   "execution_count": 8,
   "id": "97e44e37-da77-4e95-8142-b391e4410253",
   "metadata": {},
   "outputs": [
    {
     "data": {
      "text/plain": [
       "1"
      ]
     },
     "execution_count": 8,
     "metadata": {},
     "output_type": "execute_result"
    }
   ],
   "source": [
    "int(a)"
   ]
  },
  {
   "cell_type": "code",
   "execution_count": 9,
   "id": "164aa3e3-f354-41ee-982e-d431efb11915",
   "metadata": {},
   "outputs": [
    {
     "data": {
      "text/plain": [
       "bool"
      ]
     },
     "execution_count": 9,
     "metadata": {},
     "output_type": "execute_result"
    }
   ],
   "source": [
    "type(False)"
   ]
  },
  {
   "cell_type": "markdown",
   "id": "22e36489-739c-489c-a44c-528fd642d719",
   "metadata": {},
   "source": [
    "a = True\n",
    "b = False\n",
    "print(a + b)"
   ]
  },
  {
   "cell_type": "code",
   "execution_count": 12,
   "id": "634c2ed7-8daf-428b-b822-ede9c6607751",
   "metadata": {},
   "outputs": [
    {
     "name": "stdout",
     "output_type": "stream",
     "text": [
      "2\n"
     ]
    }
   ],
   "source": [
    "c = True\n",
    "print(a + c)"
   ]
  },
  {
   "cell_type": "markdown",
   "id": "66dff9b6-c75b-493e-b2e7-53c8ca0aeff2",
   "metadata": {},
   "source": [
    "Complex"
   ]
  },
  {
   "cell_type": "code",
   "execution_count": 13,
   "id": "4daf66cc-d530-4024-b946-e7bdfce4a6cf",
   "metadata": {},
   "outputs": [
    {
     "data": {
      "text/plain": [
       "complex"
      ]
     },
     "execution_count": 13,
     "metadata": {},
     "output_type": "execute_result"
    }
   ],
   "source": [
    "x = 10 + 20j\n",
    "type(x)"
   ]
  },
  {
   "cell_type": "code",
   "execution_count": 15,
   "id": "bc7708a6-7671-41bb-96ba-1a606bcd3c7a",
   "metadata": {},
   "outputs": [
    {
     "data": {
      "text/plain": [
       "10.0"
      ]
     },
     "execution_count": 15,
     "metadata": {},
     "output_type": "execute_result"
    }
   ],
   "source": [
    "x.real"
   ]
  },
  {
   "cell_type": "code",
   "execution_count": 16,
   "id": "19f26681-36d5-4713-96c3-67ce104509e6",
   "metadata": {},
   "outputs": [
    {
     "data": {
      "text/plain": [
       "20.0"
      ]
     },
     "execution_count": 16,
     "metadata": {},
     "output_type": "execute_result"
    }
   ],
   "source": [
    "x.imag"
   ]
  },
  {
   "cell_type": "code",
   "execution_count": 18,
   "id": "60fee4d1-50dd-4fbc-95fb-a34268a4b38d",
   "metadata": {},
   "outputs": [
    {
     "data": {
      "text/plain": [
       "20"
      ]
     },
     "execution_count": 18,
     "metadata": {},
     "output_type": "execute_result"
    }
   ],
   "source": [
    "int(x.imag)"
   ]
  },
  {
   "cell_type": "code",
   "execution_count": 19,
   "id": "52038a70-ef62-4b10-b3b8-f17030a6d139",
   "metadata": {},
   "outputs": [
    {
     "name": "stdout",
     "output_type": "stream",
     "text": [
      "30.0\n"
     ]
    }
   ],
   "source": [
    "print(x.real + x.imag)"
   ]
  },
  {
   "cell_type": "code",
   "execution_count": 21,
   "id": "9a642d3b-8727-449b-a7cc-98da94ae7483",
   "metadata": {},
   "outputs": [
    {
     "name": "stdout",
     "output_type": "stream",
     "text": [
      "10.0 , 20.0\n"
     ]
    }
   ],
   "source": [
    "print(x.real, ',',  x.imag)"
   ]
  },
  {
   "cell_type": "markdown",
   "id": "1a4608e8-4807-498a-83db-a569e475ab69",
   "metadata": {},
   "source": [
    "Strings"
   ]
  },
  {
   "cell_type": "code",
   "execution_count": 22,
   "id": "cbf59e20-93ce-4b66-bc61-f750231fdc6b",
   "metadata": {},
   "outputs": [
    {
     "name": "stdout",
     "output_type": "stream",
     "text": [
      "Hello world\n"
     ]
    }
   ],
   "source": [
    "myStr = \"Hello world\"\n",
    "print(myStr)"
   ]
  },
  {
   "cell_type": "code",
   "execution_count": 23,
   "id": "9bc84b8f-6784-44f0-8ddb-0b35b542a58f",
   "metadata": {},
   "outputs": [
    {
     "name": "stdout",
     "output_type": "stream",
     "text": [
      "Hello world\n"
     ]
    }
   ],
   "source": [
    "myStr = 'Hello world'\n",
    "print(myStr)"
   ]
  },
  {
   "cell_type": "code",
   "execution_count": 24,
   "id": "2690d2a0-fd76-4830-917c-da2572790498",
   "metadata": {},
   "outputs": [
    {
     "name": "stdout",
     "output_type": "stream",
     "text": [
      "Hello world\n"
     ]
    }
   ],
   "source": [
    "myStr = \"\"\"Hello world\"\"\"\n",
    "print(myStr)"
   ]
  },
  {
   "cell_type": "code",
   "execution_count": 25,
   "id": "7637209d-3c35-4599-9d7e-4e47b3bc9045",
   "metadata": {},
   "outputs": [
    {
     "data": {
      "text/plain": [
       "str"
      ]
     },
     "execution_count": 25,
     "metadata": {},
     "output_type": "execute_result"
    }
   ],
   "source": [
    "type(myStr)"
   ]
  },
  {
   "cell_type": "code",
   "execution_count": 26,
   "id": "88b3eec2-d20f-48de-a68a-e8feced8a761",
   "metadata": {},
   "outputs": [
    {
     "name": "stdout",
     "output_type": "stream",
     "text": [
      "1234\n"
     ]
    }
   ],
   "source": [
    "var = \"1234\"\n",
    "print(var)"
   ]
  },
  {
   "cell_type": "code",
   "execution_count": 27,
   "id": "3cc43225-69f8-4f46-b3d3-18ccbc9db6cb",
   "metadata": {},
   "outputs": [
    {
     "data": {
      "text/plain": [
       "str"
      ]
     },
     "execution_count": 27,
     "metadata": {},
     "output_type": "execute_result"
    }
   ],
   "source": [
    "type(var)"
   ]
  },
  {
   "cell_type": "code",
   "execution_count": 28,
   "id": "2b228ce9-effc-4119-a722-2288280483c5",
   "metadata": {},
   "outputs": [
    {
     "data": {
      "text/plain": [
       "1234"
      ]
     },
     "execution_count": 28,
     "metadata": {},
     "output_type": "execute_result"
    }
   ],
   "source": [
    "int(var)"
   ]
  },
  {
   "cell_type": "code",
   "execution_count": 29,
   "id": "d62c7659-38b0-4fad-890e-67a16c9418f7",
   "metadata": {},
   "outputs": [
    {
     "data": {
      "text/plain": [
       "str"
      ]
     },
     "execution_count": 29,
     "metadata": {},
     "output_type": "execute_result"
    }
   ],
   "source": [
    "type(var)"
   ]
  },
  {
   "cell_type": "code",
   "execution_count": 30,
   "id": "9475286f-5a28-4b5e-9e65-bb970eab35f1",
   "metadata": {},
   "outputs": [
    {
     "name": "stdout",
     "output_type": "stream",
     "text": [
      "1234\n"
     ]
    },
    {
     "data": {
      "text/plain": [
       "int"
      ]
     },
     "execution_count": 30,
     "metadata": {},
     "output_type": "execute_result"
    }
   ],
   "source": [
    "z = int(var)\n",
    "print(z)\n",
    "type(z)"
   ]
  },
  {
   "cell_type": "code",
   "execution_count": 31,
   "id": "95460baf-76c8-43f0-8321-5496d7dea407",
   "metadata": {},
   "outputs": [
    {
     "name": "stdout",
     "output_type": "stream",
     "text": [
      "sd@123\n"
     ]
    }
   ],
   "source": [
    "x = 'sd@123'\n",
    "print(x)"
   ]
  },
  {
   "cell_type": "code",
   "execution_count": 36,
   "id": "c9a5db86-a3d9-432a-83b0-db7672b72f40",
   "metadata": {},
   "outputs": [
    {
     "name": "stdout",
     "output_type": "stream",
     "text": [
      "navin's laptop\n"
     ]
    }
   ],
   "source": [
    "print(\"navin's laptop\")"
   ]
  },
  {
   "cell_type": "code",
   "execution_count": 43,
   "id": "50f9d42a-5df5-4fe0-b975-b0a161fb6c20",
   "metadata": {},
   "outputs": [
    {
     "name": "stdout",
     "output_type": "stream",
     "text": [
      "navin's \"laptop\". \n"
     ]
    }
   ],
   "source": [
    "print('navin\\'s \"laptop\". ')"
   ]
  },
  {
   "cell_type": "markdown",
   "id": "3a9c8e77-9c1e-4a51-95fd-1574aaa585cd",
   "metadata": {},
   "source": [
    "Concatination"
   ]
  },
  {
   "cell_type": "markdown",
   "id": "552ef207-acbe-4b4a-b6d8-8314c9c33bc5",
   "metadata": {},
   "source": [
    "Concatenate is a process of combining two or more strings into a single larger string."
   ]
  },
  {
   "cell_type": "code",
   "execution_count": 44,
   "id": "dd0fceef-983d-4dcb-9023-948d968925ec",
   "metadata": {},
   "outputs": [
    {
     "name": "stdout",
     "output_type": "stream",
     "text": [
      "3010\n"
     ]
    }
   ],
   "source": [
    "a = \"30\"\n",
    "b = \"10\"\n",
    "print(a + b)"
   ]
  },
  {
   "cell_type": "code",
   "execution_count": 45,
   "id": "f6f3e5ca-b134-4db6-9e66-7d884adb904d",
   "metadata": {},
   "outputs": [
    {
     "data": {
      "text/plain": [
       "3010"
      ]
     },
     "execution_count": 45,
     "metadata": {},
     "output_type": "execute_result"
    }
   ],
   "source": [
    "int(a + b)"
   ]
  },
  {
   "cell_type": "code",
   "execution_count": 46,
   "id": "6f578986-5dc0-4b61-bb8f-d7cb05e7f8a6",
   "metadata": {},
   "outputs": [
    {
     "name": "stdout",
     "output_type": "stream",
     "text": [
      "3010\n"
     ]
    }
   ],
   "source": [
    "c = int(a + b)\n",
    "print(c)"
   ]
  },
  {
   "cell_type": "code",
   "execution_count": 47,
   "id": "653f7b1f-d665-4de0-aceb-0a313d6be4dd",
   "metadata": {},
   "outputs": [
    {
     "name": "stdout",
     "output_type": "stream",
     "text": [
      "40\n"
     ]
    }
   ],
   "source": [
    "d = int(a) + int(b)\n",
    "print(d)"
   ]
  },
  {
   "cell_type": "code",
   "execution_count": 49,
   "id": "4d4a0228-d2c5-4a11-bf98-f00a5a6acee8",
   "metadata": {},
   "outputs": [
    {
     "name": "stdout",
     "output_type": "stream",
     "text": [
      "Pradosh Mihir\n"
     ]
    }
   ],
   "source": [
    "f_name= \"Pradosh\"\n",
    "m_name = \" Mihir\"\n",
    "name = f_name + m_name\n",
    "print(name)"
   ]
  },
  {
   "cell_type": "code",
   "execution_count": 50,
   "id": "93d64c42-c33f-463f-9902-2659de428143",
   "metadata": {},
   "outputs": [
    {
     "name": "stdout",
     "output_type": "stream",
     "text": [
      "shiva123\n"
     ]
    }
   ],
   "source": [
    "nam = \"shiva\"\n",
    "num = 123\n",
    "add = nam + str(num)\n",
    "print(add)"
   ]
  },
  {
   "cell_type": "code",
   "execution_count": 52,
   "id": "c1da9820-b26f-483e-8a1c-1b4e2b6089e8",
   "metadata": {},
   "outputs": [
    {
     "name": "stdout",
     "output_type": "stream",
     "text": [
      "shiva shiva shiva shiva shiva \n"
     ]
    }
   ],
   "source": [
    "# Repeat strings for n times\n",
    "rp = (nam + \" \") * 5\n",
    "print(rp)"
   ]
  },
  {
   "cell_type": "markdown",
   "id": "9e401749-8af7-4257-8c5b-6eff7b0321e9",
   "metadata": {},
   "source": [
    "Length of string"
   ]
  },
  {
   "cell_type": "code",
   "execution_count": 53,
   "id": "7c28f9e3-6287-489b-8ae7-44e37fc340c6",
   "metadata": {},
   "outputs": [
    {
     "data": {
      "text/plain": [
       "7"
      ]
     },
     "execution_count": 53,
     "metadata": {},
     "output_type": "execute_result"
    }
   ],
   "source": [
    "d = \"pradosh\"\n",
    "len(d)"
   ]
  },
  {
   "cell_type": "code",
   "execution_count": 54,
   "id": "17859bb9-105c-4c16-ab98-ecd5c66bdff1",
   "metadata": {},
   "outputs": [],
   "source": [
    "del(d)"
   ]
  },
  {
   "cell_type": "code",
   "execution_count": 55,
   "id": "4c34f88a-e076-46fe-b910-51f03ce6e9c5",
   "metadata": {},
   "outputs": [
    {
     "ename": "NameError",
     "evalue": "name 'd' is not defined",
     "output_type": "error",
     "traceback": [
      "\u001b[1;31m---------------------------------------------------------------------------\u001b[0m",
      "\u001b[1;31mNameError\u001b[0m                                 Traceback (most recent call last)",
      "Cell \u001b[1;32mIn[55], line 1\u001b[0m\n\u001b[1;32m----> 1\u001b[0m \u001b[38;5;28mprint\u001b[39m(\u001b[43md\u001b[49m)\n",
      "\u001b[1;31mNameError\u001b[0m: name 'd' is not defined"
     ]
    }
   ],
   "source": [
    "print(d)\n",
    "# here the error occur because d is deletd using 'del' method"
   ]
  },
  {
   "cell_type": "markdown",
   "id": "a3516fc1-1d77-4362-85b5-677a7529b890",
   "metadata": {},
   "source": [
    "How to access character in string using indexing"
   ]
  },
  {
   "cell_type": "code",
   "execution_count": 56,
   "id": "811843b5-f5f5-4ff8-b0e3-ee2d59ea76c1",
   "metadata": {},
   "outputs": [
    {
     "name": "stdout",
     "output_type": "stream",
     "text": [
      "18\n"
     ]
    }
   ],
   "source": [
    "name = \"Pradosh Mihir Dash\"\n",
    "print(len(name))"
   ]
  },
  {
   "cell_type": "code",
   "execution_count": 58,
   "id": "67e0d108-1baf-4ca9-80a8-1f1a501f5292",
   "metadata": {},
   "outputs": [
    {
     "data": {
      "text/plain": [
       "'r'"
      ]
     },
     "execution_count": 58,
     "metadata": {},
     "output_type": "execute_result"
    }
   ],
   "source": [
    "name [1]"
   ]
  },
  {
   "cell_type": "code",
   "execution_count": 59,
   "id": "e955f452-1886-4417-a84d-c092cc7cf31b",
   "metadata": {},
   "outputs": [
    {
     "data": {
      "text/plain": [
       "'a'"
      ]
     },
     "execution_count": 59,
     "metadata": {},
     "output_type": "execute_result"
    }
   ],
   "source": [
    "name[-3]"
   ]
  },
  {
   "cell_type": "code",
   "execution_count": 60,
   "id": "42447b99-c5cc-4fad-86d4-05ac2b8495e1",
   "metadata": {},
   "outputs": [
    {
     "ename": "IndexError",
     "evalue": "string index out of range",
     "output_type": "error",
     "traceback": [
      "\u001b[1;31m---------------------------------------------------------------------------\u001b[0m",
      "\u001b[1;31mIndexError\u001b[0m                                Traceback (most recent call last)",
      "Cell \u001b[1;32mIn[60], line 2\u001b[0m\n\u001b[0;32m      1\u001b[0m \u001b[38;5;66;03m# if we try to access index out of the range it will shows index error\u001b[39;00m\n\u001b[1;32m----> 2\u001b[0m \u001b[43mname\u001b[49m\u001b[43m[\u001b[49m\u001b[38;5;241;43m25\u001b[39;49m\u001b[43m]\u001b[49m\n",
      "\u001b[1;31mIndexError\u001b[0m: string index out of range"
     ]
    }
   ],
   "source": [
    "# if we try to access index out of the range it will shows index error\n",
    "name[25]"
   ]
  },
  {
   "cell_type": "code",
   "execution_count": 61,
   "id": "4f696090-03c3-475e-b50d-2ff6102b324b",
   "metadata": {},
   "outputs": [
    {
     "ename": "TypeError",
     "evalue": "string indices must be integers, not 'float'",
     "output_type": "error",
     "traceback": [
      "\u001b[1;31m---------------------------------------------------------------------------\u001b[0m",
      "\u001b[1;31mTypeError\u001b[0m                                 Traceback (most recent call last)",
      "Cell \u001b[1;32mIn[61], line 2\u001b[0m\n\u001b[0;32m      1\u001b[0m \u001b[38;5;66;03m# if we try to access index with decimal numbers  it will shows type error\u001b[39;00m\n\u001b[1;32m----> 2\u001b[0m \u001b[43mname\u001b[49m\u001b[43m[\u001b[49m\u001b[38;5;241;43m2.3\u001b[39;49m\u001b[43m]\u001b[49m\n",
      "\u001b[1;31mTypeError\u001b[0m: string indices must be integers, not 'float'"
     ]
    }
   ],
   "source": [
    "# if we try to access index with decimal numbers  it will shows type error\n",
    "name[2.3]"
   ]
  },
  {
   "cell_type": "markdown",
   "id": "0a1c3b90-640b-47b9-92fc-58dc5e1c28bb",
   "metadata": {},
   "source": [
    "string slicing"
   ]
  },
  {
   "cell_type": "code",
   "execution_count": 64,
   "id": "711f4dab-b13d-44da-a8f9-e0c715d85931",
   "metadata": {},
   "outputs": [
    {
     "data": {
      "text/plain": [
       "'adosh '"
      ]
     },
     "execution_count": 64,
     "metadata": {},
     "output_type": "execute_result"
    }
   ],
   "source": [
    "name[2:8]"
   ]
  },
  {
   "cell_type": "code",
   "execution_count": 65,
   "id": "2581f1cb-9794-42a4-96c1-95d92f54bf05",
   "metadata": {},
   "outputs": [
    {
     "data": {
      "text/plain": [
       "'hsaD rihiM hsodarP'"
      ]
     },
     "execution_count": 65,
     "metadata": {},
     "output_type": "execute_result"
    }
   ],
   "source": [
    "# print in reverse order\n",
    "name[::-1]"
   ]
  },
  {
   "cell_type": "markdown",
   "id": "62f42577-33b6-4a3e-b899-b489db31c457",
   "metadata": {},
   "source": [
    "String methods"
   ]
  },
  {
   "cell_type": "code",
   "execution_count": 66,
   "id": "017fac33-06db-42b2-86d6-788a53df5a3d",
   "metadata": {},
   "outputs": [
    {
     "data": {
      "text/plain": [
       "'GOOD'"
      ]
     },
     "execution_count": 66,
     "metadata": {},
     "output_type": "execute_result"
    }
   ],
   "source": [
    "# capitalize\n",
    "ltr = \"good\"\n",
    "ltr.upper()"
   ]
  },
  {
   "cell_type": "code",
   "execution_count": 67,
   "id": "2d010361-20f8-4b04-ad94-facfc20090b7",
   "metadata": {},
   "outputs": [
    {
     "data": {
      "text/plain": [
       "'morning'"
      ]
     },
     "execution_count": 67,
     "metadata": {},
     "output_type": "execute_result"
    }
   ],
   "source": [
    "# small letters\n",
    "grt = \"MORNING\"\n",
    "grt.lower()"
   ]
  },
  {
   "cell_type": "code",
   "execution_count": 69,
   "id": "48dfda61-aa2e-4485-a930-f159e4a2a115",
   "metadata": {},
   "outputs": [
    {
     "data": {
      "text/plain": [
       "'Good Morning'"
      ]
     },
     "execution_count": 69,
     "metadata": {},
     "output_type": "execute_result"
    }
   ],
   "source": [
    "# Title\n",
    "chk = \"good morning\"\n",
    "chk.title()"
   ]
  },
  {
   "cell_type": "code",
   "execution_count": 72,
   "id": "4bf55208-f473-4ad7-804b-8054ffcf45b9",
   "metadata": {},
   "outputs": [
    {
     "data": {
      "text/plain": [
       "['My', 'name', 'is', '#', 'Pradosh']"
      ]
     },
     "execution_count": 72,
     "metadata": {},
     "output_type": "execute_result"
    }
   ],
   "source": [
    "spt = \"My name is # Pradosh\"\n",
    "spt.split()"
   ]
  },
  {
   "cell_type": "code",
   "execution_count": 73,
   "id": "15e7cc3b-dc52-4c23-be24-46ccf92d1d3c",
   "metadata": {},
   "outputs": [
    {
     "data": {
      "text/plain": [
       "['My', 'name', 'is', '#', 'Pradosh']"
      ]
     },
     "execution_count": 73,
     "metadata": {},
     "output_type": "execute_result"
    }
   ],
   "source": [
    "spt.split(\" \")"
   ]
  },
  {
   "cell_type": "code",
   "execution_count": 74,
   "id": "acc9cd8a-5a85-4bc1-8884-4900473385da",
   "metadata": {},
   "outputs": [
    {
     "data": {
      "text/plain": [
       "['My name is ', ' Pradosh']"
      ]
     },
     "execution_count": 74,
     "metadata": {},
     "output_type": "execute_result"
    }
   ],
   "source": [
    "spt.split('#')"
   ]
  },
  {
   "cell_type": "code",
   "execution_count": 75,
   "id": "d6dd2591-c2ac-42d6-a468-d5c7649e7715",
   "metadata": {},
   "outputs": [
    {
     "data": {
      "text/plain": [
       "['My name is # ', '']"
      ]
     },
     "execution_count": 75,
     "metadata": {},
     "output_type": "execute_result"
    }
   ],
   "source": [
    "spt.split('Pradosh')"
   ]
  },
  {
   "cell_type": "markdown",
   "id": "ce40e73b-acd1-4900-8380-3c35fae376ea",
   "metadata": {},
   "source": [
    "Join method"
   ]
  },
  {
   "cell_type": "code",
   "execution_count": 87,
   "id": "6cea2f43-b464-414f-92c7-4faf9e5fafcb",
   "metadata": {},
   "outputs": [
    {
     "data": {
      "text/plain": [
       "'This is'"
      ]
     },
     "execution_count": 87,
     "metadata": {},
     "output_type": "execute_result"
    }
   ],
   "source": [
    "' '.join(['This', 'is'])"
   ]
  },
  {
   "cell_type": "markdown",
   "id": "251e474a-43cc-4f79-a44a-eef32fac15cb",
   "metadata": {},
   "source": [
    "Find method"
   ]
  },
  {
   "cell_type": "code",
   "execution_count": 89,
   "id": "6928bc9e-4ae1-4c4b-bb26-5995c4dc8c16",
   "metadata": {},
   "outputs": [
    {
     "data": {
      "text/plain": [
       "0"
      ]
     },
     "execution_count": 89,
     "metadata": {},
     "output_type": "execute_result"
    }
   ],
   "source": [
    "chk.find('g')"
   ]
  },
  {
   "cell_type": "code",
   "execution_count": 96,
   "id": "9b7bc152-095c-4492-bdbf-04b9c887feaf",
   "metadata": {},
   "outputs": [
    {
     "data": {
      "text/plain": [
       "1"
      ]
     },
     "execution_count": 96,
     "metadata": {},
     "output_type": "execute_result"
    }
   ],
   "source": [
    "# count method\n",
    "cnt = \"asdfghj\"\n",
    "cnt.count('j')"
   ]
  },
  {
   "cell_type": "code",
   "execution_count": null,
   "id": "c718ebb3-af8d-4dbb-8a1d-51d2ca160800",
   "metadata": {},
   "outputs": [],
   "source": []
  }
 ],
 "metadata": {
  "kernelspec": {
   "display_name": "Python 3 (ipykernel)",
   "language": "python",
   "name": "python3"
  },
  "language_info": {
   "codemirror_mode": {
    "name": "ipython",
    "version": 3
   },
   "file_extension": ".py",
   "mimetype": "text/x-python",
   "name": "python",
   "nbconvert_exporter": "python",
   "pygments_lexer": "ipython3",
   "version": "3.12.0"
  }
 },
 "nbformat": 4,
 "nbformat_minor": 5
}
